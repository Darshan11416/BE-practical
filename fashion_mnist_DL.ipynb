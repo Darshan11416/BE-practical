{
 "cells": [
  {
   "cell_type": "code",
   "execution_count": 1,
   "metadata": {
    "id": "ooPxoMVP4a15"
   },
   "outputs": [],
   "source": [
    "import numpy as np\n",
    "import pandas as pd\n",
    "import matplotlib.pyplot as plt\n",
    "import seaborn as sns"
   ]
  },
  {
   "cell_type": "code",
   "execution_count": 2,
   "metadata": {
    "id": "nCqfwJ1k4tvn"
   },
   "outputs": [],
   "source": [
    "%matplotlib inline"
   ]
  },
  {
   "cell_type": "code",
   "execution_count": 6,
   "metadata": {
    "id": "08_sTJgv4zNh"
   },
   "outputs": [],
   "source": [
    "fashion_train_df= pd.read_csv('fashion-mnist_train.csv')"
   ]
  },
  {
   "cell_type": "code",
   "execution_count": 7,
   "metadata": {
    "id": "nzH17Opt48GA"
   },
   "outputs": [],
   "source": [
    "fashion_test_df = pd.read_csv('fashion-mnist_test.csv')"
   ]
  },
  {
   "cell_type": "code",
   "execution_count": 8,
   "metadata": {
    "colab": {
     "base_uri": "https://localhost:8080/",
     "height": 300
    },
    "id": "S8Jn0K9e5BsI",
    "outputId": "e093c30e-255e-4baa-87e3-27e99ce672b4"
   },
   "outputs": [
    {
     "data": {
      "text/html": [
       "<div>\n",
       "<style scoped>\n",
       "    .dataframe tbody tr th:only-of-type {\n",
       "        vertical-align: middle;\n",
       "    }\n",
       "\n",
       "    .dataframe tbody tr th {\n",
       "        vertical-align: top;\n",
       "    }\n",
       "\n",
       "    .dataframe thead th {\n",
       "        text-align: right;\n",
       "    }\n",
       "</style>\n",
       "<table border=\"1\" class=\"dataframe\">\n",
       "  <thead>\n",
       "    <tr style=\"text-align: right;\">\n",
       "      <th></th>\n",
       "      <th>label</th>\n",
       "      <th>pixel1</th>\n",
       "      <th>pixel2</th>\n",
       "      <th>pixel3</th>\n",
       "      <th>pixel4</th>\n",
       "      <th>pixel5</th>\n",
       "      <th>pixel6</th>\n",
       "      <th>pixel7</th>\n",
       "      <th>pixel8</th>\n",
       "      <th>pixel9</th>\n",
       "      <th>...</th>\n",
       "      <th>pixel775</th>\n",
       "      <th>pixel776</th>\n",
       "      <th>pixel777</th>\n",
       "      <th>pixel778</th>\n",
       "      <th>pixel779</th>\n",
       "      <th>pixel780</th>\n",
       "      <th>pixel781</th>\n",
       "      <th>pixel782</th>\n",
       "      <th>pixel783</th>\n",
       "      <th>pixel784</th>\n",
       "    </tr>\n",
       "  </thead>\n",
       "  <tbody>\n",
       "    <tr>\n",
       "      <th>0</th>\n",
       "      <td>2</td>\n",
       "      <td>0</td>\n",
       "      <td>0</td>\n",
       "      <td>0</td>\n",
       "      <td>0</td>\n",
       "      <td>0</td>\n",
       "      <td>0</td>\n",
       "      <td>0</td>\n",
       "      <td>0</td>\n",
       "      <td>0</td>\n",
       "      <td>...</td>\n",
       "      <td>0</td>\n",
       "      <td>0</td>\n",
       "      <td>0</td>\n",
       "      <td>0</td>\n",
       "      <td>0</td>\n",
       "      <td>0</td>\n",
       "      <td>0</td>\n",
       "      <td>0</td>\n",
       "      <td>0</td>\n",
       "      <td>0</td>\n",
       "    </tr>\n",
       "    <tr>\n",
       "      <th>1</th>\n",
       "      <td>9</td>\n",
       "      <td>0</td>\n",
       "      <td>0</td>\n",
       "      <td>0</td>\n",
       "      <td>0</td>\n",
       "      <td>0</td>\n",
       "      <td>0</td>\n",
       "      <td>0</td>\n",
       "      <td>0</td>\n",
       "      <td>0</td>\n",
       "      <td>...</td>\n",
       "      <td>0</td>\n",
       "      <td>0</td>\n",
       "      <td>0</td>\n",
       "      <td>0</td>\n",
       "      <td>0</td>\n",
       "      <td>0</td>\n",
       "      <td>0</td>\n",
       "      <td>0</td>\n",
       "      <td>0</td>\n",
       "      <td>0</td>\n",
       "    </tr>\n",
       "    <tr>\n",
       "      <th>2</th>\n",
       "      <td>6</td>\n",
       "      <td>0</td>\n",
       "      <td>0</td>\n",
       "      <td>0</td>\n",
       "      <td>0</td>\n",
       "      <td>0</td>\n",
       "      <td>0</td>\n",
       "      <td>0</td>\n",
       "      <td>5</td>\n",
       "      <td>0</td>\n",
       "      <td>...</td>\n",
       "      <td>0</td>\n",
       "      <td>0</td>\n",
       "      <td>0</td>\n",
       "      <td>30</td>\n",
       "      <td>43</td>\n",
       "      <td>0</td>\n",
       "      <td>0</td>\n",
       "      <td>0</td>\n",
       "      <td>0</td>\n",
       "      <td>0</td>\n",
       "    </tr>\n",
       "    <tr>\n",
       "      <th>3</th>\n",
       "      <td>0</td>\n",
       "      <td>0</td>\n",
       "      <td>0</td>\n",
       "      <td>0</td>\n",
       "      <td>1</td>\n",
       "      <td>2</td>\n",
       "      <td>0</td>\n",
       "      <td>0</td>\n",
       "      <td>0</td>\n",
       "      <td>0</td>\n",
       "      <td>...</td>\n",
       "      <td>3</td>\n",
       "      <td>0</td>\n",
       "      <td>0</td>\n",
       "      <td>0</td>\n",
       "      <td>0</td>\n",
       "      <td>1</td>\n",
       "      <td>0</td>\n",
       "      <td>0</td>\n",
       "      <td>0</td>\n",
       "      <td>0</td>\n",
       "    </tr>\n",
       "    <tr>\n",
       "      <th>4</th>\n",
       "      <td>3</td>\n",
       "      <td>0</td>\n",
       "      <td>0</td>\n",
       "      <td>0</td>\n",
       "      <td>0</td>\n",
       "      <td>0</td>\n",
       "      <td>0</td>\n",
       "      <td>0</td>\n",
       "      <td>0</td>\n",
       "      <td>0</td>\n",
       "      <td>...</td>\n",
       "      <td>0</td>\n",
       "      <td>0</td>\n",
       "      <td>0</td>\n",
       "      <td>0</td>\n",
       "      <td>0</td>\n",
       "      <td>0</td>\n",
       "      <td>0</td>\n",
       "      <td>0</td>\n",
       "      <td>0</td>\n",
       "      <td>0</td>\n",
       "    </tr>\n",
       "  </tbody>\n",
       "</table>\n",
       "<p>5 rows × 785 columns</p>\n",
       "</div>"
      ],
      "text/plain": [
       "   label  pixel1  pixel2  pixel3  pixel4  pixel5  pixel6  pixel7  pixel8  \\\n",
       "0      2       0       0       0       0       0       0       0       0   \n",
       "1      9       0       0       0       0       0       0       0       0   \n",
       "2      6       0       0       0       0       0       0       0       5   \n",
       "3      0       0       0       0       1       2       0       0       0   \n",
       "4      3       0       0       0       0       0       0       0       0   \n",
       "\n",
       "   pixel9  ...  pixel775  pixel776  pixel777  pixel778  pixel779  pixel780  \\\n",
       "0       0  ...         0         0         0         0         0         0   \n",
       "1       0  ...         0         0         0         0         0         0   \n",
       "2       0  ...         0         0         0        30        43         0   \n",
       "3       0  ...         3         0         0         0         0         1   \n",
       "4       0  ...         0         0         0         0         0         0   \n",
       "\n",
       "   pixel781  pixel782  pixel783  pixel784  \n",
       "0         0         0         0         0  \n",
       "1         0         0         0         0  \n",
       "2         0         0         0         0  \n",
       "3         0         0         0         0  \n",
       "4         0         0         0         0  \n",
       "\n",
       "[5 rows x 785 columns]"
      ]
     },
     "execution_count": 8,
     "metadata": {},
     "output_type": "execute_result"
    }
   ],
   "source": [
    "fashion_train_df.head()"
   ]
  },
  {
   "cell_type": "code",
   "execution_count": 9,
   "metadata": {
    "colab": {
     "base_uri": "https://localhost:8080/",
     "height": 300
    },
    "id": "KWVUF3NW5E5w",
    "outputId": "edc0dd7b-b2f5-4956-dd11-f442e8904f26"
   },
   "outputs": [
    {
     "data": {
      "text/html": [
       "<div>\n",
       "<style scoped>\n",
       "    .dataframe tbody tr th:only-of-type {\n",
       "        vertical-align: middle;\n",
       "    }\n",
       "\n",
       "    .dataframe tbody tr th {\n",
       "        vertical-align: top;\n",
       "    }\n",
       "\n",
       "    .dataframe thead th {\n",
       "        text-align: right;\n",
       "    }\n",
       "</style>\n",
       "<table border=\"1\" class=\"dataframe\">\n",
       "  <thead>\n",
       "    <tr style=\"text-align: right;\">\n",
       "      <th></th>\n",
       "      <th>label</th>\n",
       "      <th>pixel1</th>\n",
       "      <th>pixel2</th>\n",
       "      <th>pixel3</th>\n",
       "      <th>pixel4</th>\n",
       "      <th>pixel5</th>\n",
       "      <th>pixel6</th>\n",
       "      <th>pixel7</th>\n",
       "      <th>pixel8</th>\n",
       "      <th>pixel9</th>\n",
       "      <th>...</th>\n",
       "      <th>pixel775</th>\n",
       "      <th>pixel776</th>\n",
       "      <th>pixel777</th>\n",
       "      <th>pixel778</th>\n",
       "      <th>pixel779</th>\n",
       "      <th>pixel780</th>\n",
       "      <th>pixel781</th>\n",
       "      <th>pixel782</th>\n",
       "      <th>pixel783</th>\n",
       "      <th>pixel784</th>\n",
       "    </tr>\n",
       "  </thead>\n",
       "  <tbody>\n",
       "    <tr>\n",
       "      <th>59995</th>\n",
       "      <td>9</td>\n",
       "      <td>0</td>\n",
       "      <td>0</td>\n",
       "      <td>0</td>\n",
       "      <td>0</td>\n",
       "      <td>0</td>\n",
       "      <td>0</td>\n",
       "      <td>0</td>\n",
       "      <td>0</td>\n",
       "      <td>0</td>\n",
       "      <td>...</td>\n",
       "      <td>0</td>\n",
       "      <td>0</td>\n",
       "      <td>0</td>\n",
       "      <td>0</td>\n",
       "      <td>0</td>\n",
       "      <td>0</td>\n",
       "      <td>0</td>\n",
       "      <td>0</td>\n",
       "      <td>0</td>\n",
       "      <td>0</td>\n",
       "    </tr>\n",
       "    <tr>\n",
       "      <th>59996</th>\n",
       "      <td>1</td>\n",
       "      <td>0</td>\n",
       "      <td>0</td>\n",
       "      <td>0</td>\n",
       "      <td>0</td>\n",
       "      <td>0</td>\n",
       "      <td>0</td>\n",
       "      <td>0</td>\n",
       "      <td>0</td>\n",
       "      <td>0</td>\n",
       "      <td>...</td>\n",
       "      <td>73</td>\n",
       "      <td>0</td>\n",
       "      <td>0</td>\n",
       "      <td>0</td>\n",
       "      <td>0</td>\n",
       "      <td>0</td>\n",
       "      <td>0</td>\n",
       "      <td>0</td>\n",
       "      <td>0</td>\n",
       "      <td>0</td>\n",
       "    </tr>\n",
       "    <tr>\n",
       "      <th>59997</th>\n",
       "      <td>8</td>\n",
       "      <td>0</td>\n",
       "      <td>0</td>\n",
       "      <td>0</td>\n",
       "      <td>0</td>\n",
       "      <td>0</td>\n",
       "      <td>0</td>\n",
       "      <td>0</td>\n",
       "      <td>0</td>\n",
       "      <td>0</td>\n",
       "      <td>...</td>\n",
       "      <td>160</td>\n",
       "      <td>162</td>\n",
       "      <td>163</td>\n",
       "      <td>135</td>\n",
       "      <td>94</td>\n",
       "      <td>0</td>\n",
       "      <td>0</td>\n",
       "      <td>0</td>\n",
       "      <td>0</td>\n",
       "      <td>0</td>\n",
       "    </tr>\n",
       "    <tr>\n",
       "      <th>59998</th>\n",
       "      <td>8</td>\n",
       "      <td>0</td>\n",
       "      <td>0</td>\n",
       "      <td>0</td>\n",
       "      <td>0</td>\n",
       "      <td>0</td>\n",
       "      <td>0</td>\n",
       "      <td>0</td>\n",
       "      <td>0</td>\n",
       "      <td>0</td>\n",
       "      <td>...</td>\n",
       "      <td>0</td>\n",
       "      <td>0</td>\n",
       "      <td>0</td>\n",
       "      <td>0</td>\n",
       "      <td>0</td>\n",
       "      <td>0</td>\n",
       "      <td>0</td>\n",
       "      <td>0</td>\n",
       "      <td>0</td>\n",
       "      <td>0</td>\n",
       "    </tr>\n",
       "    <tr>\n",
       "      <th>59999</th>\n",
       "      <td>7</td>\n",
       "      <td>0</td>\n",
       "      <td>0</td>\n",
       "      <td>0</td>\n",
       "      <td>0</td>\n",
       "      <td>0</td>\n",
       "      <td>0</td>\n",
       "      <td>0</td>\n",
       "      <td>0</td>\n",
       "      <td>0</td>\n",
       "      <td>...</td>\n",
       "      <td>0</td>\n",
       "      <td>0</td>\n",
       "      <td>0</td>\n",
       "      <td>0</td>\n",
       "      <td>0</td>\n",
       "      <td>0</td>\n",
       "      <td>0</td>\n",
       "      <td>0</td>\n",
       "      <td>0</td>\n",
       "      <td>0</td>\n",
       "    </tr>\n",
       "  </tbody>\n",
       "</table>\n",
       "<p>5 rows × 785 columns</p>\n",
       "</div>"
      ],
      "text/plain": [
       "       label  pixel1  pixel2  pixel3  pixel4  pixel5  pixel6  pixel7  pixel8  \\\n",
       "59995      9       0       0       0       0       0       0       0       0   \n",
       "59996      1       0       0       0       0       0       0       0       0   \n",
       "59997      8       0       0       0       0       0       0       0       0   \n",
       "59998      8       0       0       0       0       0       0       0       0   \n",
       "59999      7       0       0       0       0       0       0       0       0   \n",
       "\n",
       "       pixel9  ...  pixel775  pixel776  pixel777  pixel778  pixel779  \\\n",
       "59995       0  ...         0         0         0         0         0   \n",
       "59996       0  ...        73         0         0         0         0   \n",
       "59997       0  ...       160       162       163       135        94   \n",
       "59998       0  ...         0         0         0         0         0   \n",
       "59999       0  ...         0         0         0         0         0   \n",
       "\n",
       "       pixel780  pixel781  pixel782  pixel783  pixel784  \n",
       "59995         0         0         0         0         0  \n",
       "59996         0         0         0         0         0  \n",
       "59997         0         0         0         0         0  \n",
       "59998         0         0         0         0         0  \n",
       "59999         0         0         0         0         0  \n",
       "\n",
       "[5 rows x 785 columns]"
      ]
     },
     "execution_count": 9,
     "metadata": {},
     "output_type": "execute_result"
    }
   ],
   "source": [
    "fashion_train_df.tail()"
   ]
  },
  {
   "cell_type": "code",
   "execution_count": 10,
   "metadata": {
    "colab": {
     "base_uri": "https://localhost:8080/"
    },
    "id": "5Bd1uKEw5In4",
    "outputId": "bd0c2bf1-9a96-4b44-ec24-69f9fca2ad12"
   },
   "outputs": [
    {
     "data": {
      "text/plain": [
       "(60000, 785)"
      ]
     },
     "execution_count": 10,
     "metadata": {},
     "output_type": "execute_result"
    }
   ],
   "source": [
    "fashion_train_df.shape"
   ]
  },
  {
   "cell_type": "code",
   "execution_count": 11,
   "metadata": {
    "colab": {
     "base_uri": "https://localhost:8080/"
    },
    "id": "1ImHKcZB5LgY",
    "outputId": "0770744d-dc2c-4f28-9ade-1f6e2d4a9178"
   },
   "outputs": [
    {
     "data": {
      "text/plain": [
       "(10000, 785)"
      ]
     },
     "execution_count": 11,
     "metadata": {},
     "output_type": "execute_result"
    }
   ],
   "source": [
    "fashion_test_df.shape"
   ]
  },
  {
   "cell_type": "code",
   "execution_count": 12,
   "metadata": {
    "id": "8yzRp-K15PsQ"
   },
   "outputs": [],
   "source": [
    "training = np.array(fashion_train_df,dtype='float32')\n",
    "testing = np.array(fashion_test_df,dtype='float32')"
   ]
  },
  {
   "cell_type": "code",
   "execution_count": 13,
   "metadata": {
    "colab": {
     "base_uri": "https://localhost:8080/"
    },
    "id": "Mj9EpBV25SNY",
    "outputId": "5f4b1dfd-2363-4850-b875-6ea6e32a7a3a"
   },
   "outputs": [
    {
     "data": {
      "text/plain": [
       "(60000, 785)"
      ]
     },
     "execution_count": 13,
     "metadata": {},
     "output_type": "execute_result"
    }
   ],
   "source": [
    "training.shape"
   ]
  },
  {
   "cell_type": "code",
   "execution_count": 14,
   "metadata": {
    "id": "AutVqnL_5VCw"
   },
   "outputs": [],
   "source": [
    "import random"
   ]
  },
  {
   "cell_type": "code",
   "execution_count": 15,
   "metadata": {
    "colab": {
     "base_uri": "https://localhost:8080/",
     "height": 282
    },
    "id": "QqE3ecVbMHOq",
    "outputId": "af0dd2e6-2f41-4229-e788-2b97dee7d0cd"
   },
   "outputs": [
    {
     "data": {
      "text/plain": [
       "0.0"
      ]
     },
     "execution_count": 15,
     "metadata": {},
     "output_type": "execute_result"
    },
    {
     "data": {
      "image/png": "[encoded data removed]",
      "text/plain": [
       "<Figure size 432x288 with 1 Axes>"
      ]
     },
     "metadata": {
      "needs_background": "light"
     },
     "output_type": "display_data"
    }
   ],
   "source": [
    "i = random.randint(0,60001) \n",
    "plt.imshow(training[i,1:].reshape(28,28)) \n",
    "label = training[i,1] \n",
    "label"
   ]
  },
  {
   "cell_type": "markdown",
   "metadata": {
    "id": "pohsjSwb5YkZ"
   },
   "source": [
    "**i** = random.randint(0,60001)\n",
    "plt.imshow(training[i,1:].reshape(28,28))\n",
    "label = training[i,1] \n",
    "label"
   ]
  },
  {
   "cell_type": "code",
   "execution_count": 16,
   "metadata": {
    "colab": {
     "base_uri": "https://localhost:8080/",
     "height": 966
    },
    "id": "TVwvULA15gRA",
    "outputId": "080a4c5b-5855-4930-ed80-c1532bd40ea8"
   },
   "outputs": [
    {
     "data": {
      "image/png": "[encoded data removed]",
      "text/plain": [
       "<Figure size 1224x1224 with 49 Axes>"
      ]
     },
     "metadata": {
      "needs_background": "light"
     },
     "output_type": "display_data"
    }
   ],
   "source": [
    "W_grid = 7\n",
    "L_grid = 7\n",
    "\n",
    "fig,axes = plt.subplots(L_grid,W_grid,figsize =(17,17))\n",
    "\n",
    "axes = axes.ravel() \n",
    "n_training = len(training) \n",
    "\n",
    "\n",
    "\n",
    "for i in np.arange(0,W_grid*L_grid):\n",
    "        index = np.random.randint(0,n_training)\n",
    "        axes[i].imshow(training[index,1:].reshape((28,28)))\n",
    "        axes[i].set_title(training[index,0],fontsize = 8)\n",
    "        axes[i].axis('off')\n",
    "        \n",
    "plt.subplots_adjust(hspace=0.4)  "
   ]
  },
  {
   "cell_type": "code",
   "execution_count": 17,
   "metadata": {
    "id": "C-0rO0Uu5keI"
   },
   "outputs": [],
   "source": [
    "X_train = training[:,1:]/255\n",
    "y_train = training[:,0]\n",
    "X_test = testing[:,1:]/255\n",
    "y_test = testing[:,0]"
   ]
  },
  {
   "cell_type": "code",
   "execution_count": 18,
   "metadata": {
    "id": "J9cSUEiU5sKZ"
   },
   "outputs": [],
   "source": [
    "from sklearn.model_selection import train_test_split\n",
    "X_train, X_validate, y_train, y_validate = train_test_split(X_train, y_train,test_size = 0.2,random_state = 12345) "
   ]
  },
  {
   "cell_type": "code",
   "execution_count": 19,
   "metadata": {
    "id": "bPQfPGZs5w1H"
   },
   "outputs": [],
   "source": [
    "X_train = X_train.reshape(X_train.shape[0],*(28,28,1))\n",
    "X_test = X_test.reshape(X_test.shape[0],*(28,28,1))\n",
    "X_validate = X_validate.reshape(X_validate.shape[0],*(28,28,1))"
   ]
  },
  {
   "cell_type": "code",
   "execution_count": 20,
   "metadata": {
    "colab": {
     "base_uri": "https://localhost:8080/"
    },
    "id": "tozw48m551s5",
    "outputId": "6ff6ba33-e885-4825-9346-d5a4ffc42c32"
   },
   "outputs": [
    {
     "data": {
      "text/plain": [
       "(48000, 28, 28, 1)"
      ]
     },
     "execution_count": 20,
     "metadata": {},
     "output_type": "execute_result"
    }
   ],
   "source": [
    "X_train.shape\n"
   ]
  },
  {
   "cell_type": "code",
   "execution_count": 21,
   "metadata": {
    "colab": {
     "base_uri": "https://localhost:8080/"
    },
    "id": "Gu-96aNG591o",
    "outputId": "79580ce7-7f0c-4044-c4bb-0aded3289908"
   },
   "outputs": [
    {
     "data": {
      "text/plain": [
       "(10000, 28, 28, 1)"
      ]
     },
     "execution_count": 21,
     "metadata": {},
     "output_type": "execute_result"
    }
   ],
   "source": [
    "X_test.shape"
   ]
  },
  {
   "cell_type": "code",
   "execution_count": 22,
   "metadata": {
    "colab": {
     "base_uri": "https://localhost:8080/"
    },
    "id": "LDGYbFcm6ALB",
    "outputId": "da616432-f524-40a2-9a95-7407967c9481"
   },
   "outputs": [
    {
     "data": {
      "text/plain": [
       "(12000, 28, 28, 1)"
      ]
     },
     "execution_count": 22,
     "metadata": {},
     "output_type": "execute_result"
    }
   ],
   "source": [
    "X_validate.shape"
   ]
  },
  {
   "cell_type": "code",
   "execution_count": 23,
   "metadata": {
    "id": "GCCnNuCj6DmA"
   },
   "outputs": [],
   "source": [
    "import tensorflow as tf\n",
    "from tensorflow import keras\n",
    "from tensorflow.keras.models import Sequential\n",
    "from tensorflow.keras.layers import Conv2D,MaxPooling2D,Dense,Flatten,Dropout\n",
    "from tensorflow.keras.optimizers import Adam\n",
    "from tensorflow.keras.callbacks import TensorBoard"
   ]
  },
  {
   "cell_type": "code",
   "execution_count": 24,
   "metadata": {
    "id": "zHYu_wiP6IAp"
   },
   "outputs": [],
   "source": [
    "cnn_model = Sequential()\n",
    "cnn_model.add(Conv2D(32,3,3,input_shape = (28,28,1),activation = 'relu'))\n",
    "cnn_model.add(MaxPooling2D(pool_size= (2,2)))\n",
    "cnn_model.add(Flatten())\n",
    "cnn_model.add(Dense(32,activation = 'relu'))\n",
    "cnn_model.add(Dense(10,activation = 'sigmoid'))\n",
    "cnn_model.compile(loss ='sparse_categorical_crossentropy',optimizer = Adam(learning_rate=0.001),metrics= ['accuracy'])\n"
   ]
  },
  {
   "cell_type": "code",
   "execution_count": 25,
   "metadata": {
    "id": "7GtLdxcj6g1B"
   },
   "outputs": [],
   "source": [
    "epochs = 200\n"
   ]
  },
  {
   "cell_type": "code",
   "execution_count": 26,
   "metadata": {
    "colab": {
     "base_uri": "https://localhost:8080/"
    },
    "id": "kkc-K1QY6kLA",
    "outputId": "4c9cfda8-cd4a-41e0-e552-3e2dce3ac182"
   },
   "outputs": [
    {
     "name": "stdout",
     "output_type": "stream",
     "text": [
      "Epoch 1/200\n",
      "94/94 [==============================] - 6s 39ms/step - loss: 1.3859 - accuracy: 0.5816 - val_loss: 0.8020 - val_accuracy: 0.7179\n",
      "Epoch 2/200\n",
      "94/94 [==============================] - 3s 34ms/step - loss: 0.7181 - accuracy: 0.7387 - val_loss: 0.6587 - val_accuracy: 0.7611\n",
      "Epoch 3/200\n",
      "94/94 [==============================] - 3s 33ms/step - loss: 0.6221 - accuracy: 0.7747 - val_loss: 0.5954 - val_accuracy: 0.7859\n",
      "Epoch 4/200\n",
      "94/94 [==============================] - 3s 34ms/step - loss: 0.5684 - accuracy: 0.7960 - val_loss: 0.5589 - val_accuracy: 0.8007\n",
      "Epoch 5/200\n",
      "94/94 [==============================] - 3s 33ms/step - loss: 0.5351 - accuracy: 0.8073 - val_loss: 0.5330 - val_accuracy: 0.8076\n",
      "Epoch 6/200\n",
      "94/94 [==============================] - 3s 34ms/step - loss: 0.5123 - accuracy: 0.8159 - val_loss: 0.5096 - val_accuracy: 0.8213\n",
      "Epoch 7/200\n",
      "94/94 [==============================] - 3s 33ms/step - loss: 0.4919 - accuracy: 0.8232 - val_loss: 0.4989 - val_accuracy: 0.8183\n",
      "Epoch 8/200\n",
      "94/94 [==============================] - 3s 33ms/step - loss: 0.4771 - accuracy: 0.8286 - val_loss: 0.4758 - val_accuracy: 0.8303\n",
      "Epoch 9/200\n",
      "94/94 [==============================] - 3s 33ms/step - loss: 0.4638 - accuracy: 0.8327 - val_loss: 0.4672 - val_accuracy: 0.8335\n",
      "Epoch 10/200\n",
      "94/94 [==============================] - 3s 33ms/step - loss: 0.4527 - accuracy: 0.8361 - val_loss: 0.4554 - val_accuracy: 0.8379\n",
      "Epoch 11/200\n",
      "94/94 [==============================] - 3s 34ms/step - loss: 0.4443 - accuracy: 0.8392 - val_loss: 0.4532 - val_accuracy: 0.8377\n",
      "Epoch 12/200\n",
      "94/94 [==============================] - 3s 34ms/step - loss: 0.4406 - accuracy: 0.8409 - val_loss: 0.4466 - val_accuracy: 0.8389\n",
      "Epoch 13/200\n",
      "94/94 [==============================] - 3s 34ms/step - loss: 0.4298 - accuracy: 0.8446 - val_loss: 0.4391 - val_accuracy: 0.8431\n",
      "Epoch 14/200\n",
      "94/94 [==============================] - 3s 33ms/step - loss: 0.4230 - accuracy: 0.8462 - val_loss: 0.4392 - val_accuracy: 0.8415\n",
      "Epoch 15/200\n",
      "94/94 [==============================] - 3s 33ms/step - loss: 0.4187 - accuracy: 0.8473 - val_loss: 0.4316 - val_accuracy: 0.8424\n",
      "Epoch 16/200\n",
      "94/94 [==============================] - 3s 33ms/step - loss: 0.4155 - accuracy: 0.8496 - val_loss: 0.4236 - val_accuracy: 0.8477\n",
      "Epoch 17/200\n",
      "94/94 [==============================] - 3s 33ms/step - loss: 0.4090 - accuracy: 0.8525 - val_loss: 0.4227 - val_accuracy: 0.8472\n",
      "Epoch 18/200\n",
      "94/94 [==============================] - 3s 33ms/step - loss: 0.4074 - accuracy: 0.8528 - val_loss: 0.4255 - val_accuracy: 0.8450\n",
      "Epoch 19/200\n",
      "94/94 [==============================] - 3s 33ms/step - loss: 0.4029 - accuracy: 0.8527 - val_loss: 0.4183 - val_accuracy: 0.8482\n",
      "Epoch 20/200\n",
      "94/94 [==============================] - 3s 33ms/step - loss: 0.3997 - accuracy: 0.8552 - val_loss: 0.4115 - val_accuracy: 0.8497\n",
      "Epoch 21/200\n",
      "94/94 [==============================] - 3s 32ms/step - loss: 0.3959 - accuracy: 0.8571 - val_loss: 0.4092 - val_accuracy: 0.8520\n",
      "Epoch 22/200\n",
      "94/94 [==============================] - 3s 32ms/step - loss: 0.3927 - accuracy: 0.8576 - val_loss: 0.4109 - val_accuracy: 0.8498\n",
      "Epoch 23/200\n",
      "94/94 [==============================] - 3s 32ms/step - loss: 0.3895 - accuracy: 0.8592 - val_loss: 0.4145 - val_accuracy: 0.8472\n",
      "Epoch 24/200\n",
      "94/94 [==============================] - 3s 32ms/step - loss: 0.3902 - accuracy: 0.8591 - val_loss: 0.4063 - val_accuracy: 0.8523\n",
      "Epoch 25/200\n",
      "94/94 [==============================] - 3s 32ms/step - loss: 0.3857 - accuracy: 0.8611 - val_loss: 0.4022 - val_accuracy: 0.8535\n",
      "Epoch 26/200\n",
      "94/94 [==============================] - 3s 33ms/step - loss: 0.3823 - accuracy: 0.8619 - val_loss: 0.4168 - val_accuracy: 0.8465\n",
      "Epoch 27/200\n",
      "94/94 [==============================] - 3s 32ms/step - loss: 0.3810 - accuracy: 0.8622 - val_loss: 0.4038 - val_accuracy: 0.8533\n",
      "Epoch 28/200\n",
      "94/94 [==============================] - 3s 32ms/step - loss: 0.3794 - accuracy: 0.8635 - val_loss: 0.3992 - val_accuracy: 0.8561\n",
      "Epoch 29/200\n",
      "94/94 [==============================] - 3s 32ms/step - loss: 0.3766 - accuracy: 0.8646 - val_loss: 0.4089 - val_accuracy: 0.8511\n",
      "Epoch 30/200\n",
      "94/94 [==============================] - 3s 33ms/step - loss: 0.3737 - accuracy: 0.8652 - val_loss: 0.3994 - val_accuracy: 0.8553\n",
      "Epoch 31/200\n",
      "94/94 [==============================] - 3s 32ms/step - loss: 0.3727 - accuracy: 0.8648 - val_loss: 0.3929 - val_accuracy: 0.8570\n",
      "Epoch 32/200\n",
      "94/94 [==============================] - 3s 32ms/step - loss: 0.3720 - accuracy: 0.8651 - val_loss: 0.3943 - val_accuracy: 0.8572\n",
      "Epoch 33/200\n",
      "94/94 [==============================] - 3s 33ms/step - loss: 0.3687 - accuracy: 0.8679 - val_loss: 0.3889 - val_accuracy: 0.8574\n",
      "Epoch 34/200\n",
      "94/94 [==============================] - 3s 32ms/step - loss: 0.3686 - accuracy: 0.8671 - val_loss: 0.3926 - val_accuracy: 0.8571\n",
      "Epoch 35/200\n",
      "94/94 [==============================] - 3s 33ms/step - loss: 0.3665 - accuracy: 0.8677 - val_loss: 0.3931 - val_accuracy: 0.8569\n",
      "Epoch 36/200\n",
      "94/94 [==============================] - 3s 31ms/step - loss: 0.3660 - accuracy: 0.8681 - val_loss: 0.3867 - val_accuracy: 0.8594\n",
      "Epoch 37/200\n",
      "94/94 [==============================] - 3s 33ms/step - loss: 0.3633 - accuracy: 0.8695 - val_loss: 0.3947 - val_accuracy: 0.8566\n",
      "Epoch 38/200\n",
      "94/94 [==============================] - 3s 31ms/step - loss: 0.3626 - accuracy: 0.8688 - val_loss: 0.3863 - val_accuracy: 0.8585\n",
      "Epoch 39/200\n",
      "94/94 [==============================] - 3s 32ms/step - loss: 0.3594 - accuracy: 0.8698 - val_loss: 0.3863 - val_accuracy: 0.8614\n",
      "Epoch 40/200\n",
      "94/94 [==============================] - 3s 31ms/step - loss: 0.3591 - accuracy: 0.8700 - val_loss: 0.3862 - val_accuracy: 0.8594\n",
      "Epoch 41/200\n",
      "94/94 [==============================] - 3s 31ms/step - loss: 0.3568 - accuracy: 0.8714 - val_loss: 0.3823 - val_accuracy: 0.8618\n",
      "Epoch 42/200\n",
      "94/94 [==============================] - 3s 34ms/step - loss: 0.3564 - accuracy: 0.8711 - val_loss: 0.3820 - val_accuracy: 0.8622\n",
      "Epoch 43/200\n",
      "94/94 [==============================] - 3s 31ms/step - loss: 0.3573 - accuracy: 0.8706 - val_loss: 0.3831 - val_accuracy: 0.8612\n",
      "Epoch 44/200\n",
      "94/94 [==============================] - 3s 31ms/step - loss: 0.3528 - accuracy: 0.8718 - val_loss: 0.3806 - val_accuracy: 0.8613\n",
      "Epoch 45/200\n",
      "94/94 [==============================] - 3s 29ms/step - loss: 0.3523 - accuracy: 0.8731 - val_loss: 0.3805 - val_accuracy: 0.8630\n",
      "Epoch 46/200\n",
      "94/94 [==============================] - 3s 31ms/step - loss: 0.3493 - accuracy: 0.8734 - val_loss: 0.3813 - val_accuracy: 0.8620\n",
      "Epoch 47/200\n",
      "94/94 [==============================] - 3s 32ms/step - loss: 0.3483 - accuracy: 0.8740 - val_loss: 0.3770 - val_accuracy: 0.8640\n",
      "Epoch 48/200\n",
      "94/94 [==============================] - 3s 33ms/step - loss: 0.3477 - accuracy: 0.8747 - val_loss: 0.3786 - val_accuracy: 0.8626\n",
      "Epoch 49/200\n",
      "94/94 [==============================] - 3s 32ms/step - loss: 0.3483 - accuracy: 0.8741 - val_loss: 0.3774 - val_accuracy: 0.8630\n",
      "Epoch 50/200\n",
      "94/94 [==============================] - 3s 32ms/step - loss: 0.3454 - accuracy: 0.8745 - val_loss: 0.3807 - val_accuracy: 0.8609\n",
      "Epoch 51/200\n",
      "94/94 [==============================] - 3s 33ms/step - loss: 0.3448 - accuracy: 0.8751 - val_loss: 0.3788 - val_accuracy: 0.8624\n",
      "Epoch 52/200\n",
      "94/94 [==============================] - 3s 33ms/step - loss: 0.3439 - accuracy: 0.8763 - val_loss: 0.3740 - val_accuracy: 0.8655\n",
      "Epoch 53/200\n",
      "94/94 [==============================] - 3s 34ms/step - loss: 0.3448 - accuracy: 0.8748 - val_loss: 0.3752 - val_accuracy: 0.8648\n",
      "Epoch 54/200\n",
      "94/94 [==============================] - 3s 33ms/step - loss: 0.3425 - accuracy: 0.8763 - val_loss: 0.3757 - val_accuracy: 0.8643\n",
      "Epoch 55/200\n",
      "94/94 [==============================] - 3s 33ms/step - loss: 0.3394 - accuracy: 0.8775 - val_loss: 0.3729 - val_accuracy: 0.8656\n",
      "Epoch 56/200\n",
      "94/94 [==============================] - 3s 33ms/step - loss: 0.3400 - accuracy: 0.8766 - val_loss: 0.3773 - val_accuracy: 0.8632\n",
      "Epoch 57/200\n",
      "94/94 [==============================] - 3s 33ms/step - loss: 0.3372 - accuracy: 0.8779 - val_loss: 0.3815 - val_accuracy: 0.8618\n",
      "Epoch 58/200\n",
      "94/94 [==============================] - 3s 33ms/step - loss: 0.3371 - accuracy: 0.8781 - val_loss: 0.3715 - val_accuracy: 0.8661\n",
      "Epoch 59/200\n",
      "94/94 [==============================] - 3s 34ms/step - loss: 0.3358 - accuracy: 0.8785 - val_loss: 0.3731 - val_accuracy: 0.8647\n",
      "Epoch 60/200\n",
      "94/94 [==============================] - 3s 34ms/step - loss: 0.3347 - accuracy: 0.8781 - val_loss: 0.3728 - val_accuracy: 0.8658\n",
      "Epoch 61/200\n",
      "94/94 [==============================] - 3s 32ms/step - loss: 0.3336 - accuracy: 0.8796 - val_loss: 0.3812 - val_accuracy: 0.8604\n",
      "Epoch 62/200\n",
      "94/94 [==============================] - 3s 32ms/step - loss: 0.3333 - accuracy: 0.8789 - val_loss: 0.3738 - val_accuracy: 0.8662\n",
      "Epoch 63/200\n",
      "94/94 [==============================] - 3s 32ms/step - loss: 0.3360 - accuracy: 0.8773 - val_loss: 0.3851 - val_accuracy: 0.8607\n",
      "Epoch 64/200\n",
      "94/94 [==============================] - 3s 32ms/step - loss: 0.3324 - accuracy: 0.8795 - val_loss: 0.3736 - val_accuracy: 0.8650\n",
      "Epoch 65/200\n",
      "94/94 [==============================] - 3s 32ms/step - loss: 0.3298 - accuracy: 0.8802 - val_loss: 0.3718 - val_accuracy: 0.8667\n",
      "Epoch 66/200\n",
      "94/94 [==============================] - 3s 32ms/step - loss: 0.3292 - accuracy: 0.8807 - val_loss: 0.3676 - val_accuracy: 0.8673\n",
      "Epoch 67/200\n",
      "94/94 [==============================] - 3s 32ms/step - loss: 0.3275 - accuracy: 0.8809 - val_loss: 0.3677 - val_accuracy: 0.8681\n",
      "Epoch 68/200\n",
      "94/94 [==============================] - 3s 32ms/step - loss: 0.3281 - accuracy: 0.8805 - val_loss: 0.3688 - val_accuracy: 0.8677\n",
      "Epoch 69/200\n",
      "94/94 [==============================] - 3s 32ms/step - loss: 0.3269 - accuracy: 0.8804 - val_loss: 0.3672 - val_accuracy: 0.8682\n",
      "Epoch 70/200\n",
      "94/94 [==============================] - 3s 32ms/step - loss: 0.3277 - accuracy: 0.8808 - val_loss: 0.3707 - val_accuracy: 0.8660\n",
      "Epoch 71/200\n",
      "94/94 [==============================] - 3s 32ms/step - loss: 0.3281 - accuracy: 0.8805 - val_loss: 0.3673 - val_accuracy: 0.8680\n",
      "Epoch 72/200\n",
      "94/94 [==============================] - 3s 32ms/step - loss: 0.3247 - accuracy: 0.8811 - val_loss: 0.3672 - val_accuracy: 0.8678\n",
      "Epoch 73/200\n",
      "94/94 [==============================] - 3s 32ms/step - loss: 0.3239 - accuracy: 0.8828 - val_loss: 0.3712 - val_accuracy: 0.8657\n",
      "Epoch 74/200\n",
      "94/94 [==============================] - 3s 33ms/step - loss: 0.3219 - accuracy: 0.8823 - val_loss: 0.3636 - val_accuracy: 0.8682\n",
      "Epoch 75/200\n",
      "94/94 [==============================] - 3s 32ms/step - loss: 0.3214 - accuracy: 0.8841 - val_loss: 0.3620 - val_accuracy: 0.8707\n",
      "Epoch 76/200\n",
      "94/94 [==============================] - 3s 32ms/step - loss: 0.3230 - accuracy: 0.8829 - val_loss: 0.3636 - val_accuracy: 0.8699\n",
      "Epoch 77/200\n",
      "94/94 [==============================] - 3s 32ms/step - loss: 0.3193 - accuracy: 0.8850 - val_loss: 0.3673 - val_accuracy: 0.8696\n",
      "Epoch 78/200\n",
      "94/94 [==============================] - 3s 32ms/step - loss: 0.3218 - accuracy: 0.8833 - val_loss: 0.3632 - val_accuracy: 0.8691\n",
      "Epoch 79/200\n",
      "94/94 [==============================] - 3s 32ms/step - loss: 0.3190 - accuracy: 0.8844 - val_loss: 0.3666 - val_accuracy: 0.8689\n",
      "Epoch 80/200\n",
      "94/94 [==============================] - 3s 32ms/step - loss: 0.3185 - accuracy: 0.8838 - val_loss: 0.3617 - val_accuracy: 0.8702\n",
      "Epoch 81/200\n",
      "94/94 [==============================] - 3s 32ms/step - loss: 0.3158 - accuracy: 0.8854 - val_loss: 0.3615 - val_accuracy: 0.8702\n",
      "Epoch 82/200\n",
      "94/94 [==============================] - 3s 32ms/step - loss: 0.3163 - accuracy: 0.8856 - val_loss: 0.3605 - val_accuracy: 0.8692\n",
      "Epoch 83/200\n",
      "94/94 [==============================] - 3s 32ms/step - loss: 0.3139 - accuracy: 0.8860 - val_loss: 0.3627 - val_accuracy: 0.8692\n",
      "Epoch 84/200\n",
      "94/94 [==============================] - 3s 32ms/step - loss: 0.3141 - accuracy: 0.8852 - val_loss: 0.3677 - val_accuracy: 0.8666\n",
      "Epoch 85/200\n",
      "94/94 [==============================] - 3s 32ms/step - loss: 0.3139 - accuracy: 0.8863 - val_loss: 0.3639 - val_accuracy: 0.8687\n",
      "Epoch 86/200\n",
      "94/94 [==============================] - 3s 32ms/step - loss: 0.3130 - accuracy: 0.8865 - val_loss: 0.3665 - val_accuracy: 0.8672\n",
      "Epoch 87/200\n",
      "94/94 [==============================] - 3s 32ms/step - loss: 0.3125 - accuracy: 0.8868 - val_loss: 0.3625 - val_accuracy: 0.8708\n",
      "Epoch 88/200\n",
      "94/94 [==============================] - 3s 32ms/step - loss: 0.3116 - accuracy: 0.8860 - val_loss: 0.3587 - val_accuracy: 0.8715\n",
      "Epoch 89/200\n",
      "94/94 [==============================] - 3s 32ms/step - loss: 0.3114 - accuracy: 0.8869 - val_loss: 0.3582 - val_accuracy: 0.8714\n",
      "Epoch 90/200\n",
      "94/94 [==============================] - 3s 33ms/step - loss: 0.3096 - accuracy: 0.8883 - val_loss: 0.3566 - val_accuracy: 0.8717\n",
      "Epoch 91/200\n",
      "94/94 [==============================] - 3s 32ms/step - loss: 0.3116 - accuracy: 0.8861 - val_loss: 0.3585 - val_accuracy: 0.8696\n",
      "Epoch 92/200\n",
      "94/94 [==============================] - 3s 32ms/step - loss: 0.3084 - accuracy: 0.8882 - val_loss: 0.3567 - val_accuracy: 0.8720\n",
      "Epoch 93/200\n",
      "94/94 [==============================] - 3s 32ms/step - loss: 0.3076 - accuracy: 0.8883 - val_loss: 0.3565 - val_accuracy: 0.8695\n",
      "Epoch 94/200\n",
      "94/94 [==============================] - 3s 32ms/step - loss: 0.3063 - accuracy: 0.8886 - val_loss: 0.3593 - val_accuracy: 0.8714\n",
      "Epoch 95/200\n",
      "94/94 [==============================] - 3s 32ms/step - loss: 0.3066 - accuracy: 0.8896 - val_loss: 0.3592 - val_accuracy: 0.8701\n",
      "Epoch 96/200\n",
      "94/94 [==============================] - 3s 32ms/step - loss: 0.3068 - accuracy: 0.8882 - val_loss: 0.3557 - val_accuracy: 0.8726\n",
      "Epoch 97/200\n",
      "94/94 [==============================] - 3s 32ms/step - loss: 0.3047 - accuracy: 0.8892 - val_loss: 0.3635 - val_accuracy: 0.8705\n",
      "Epoch 98/200\n",
      "94/94 [==============================] - 3s 32ms/step - loss: 0.3067 - accuracy: 0.8880 - val_loss: 0.3562 - val_accuracy: 0.8723\n",
      "Epoch 99/200\n",
      "94/94 [==============================] - 3s 32ms/step - loss: 0.3032 - accuracy: 0.8898 - val_loss: 0.3615 - val_accuracy: 0.8712\n",
      "Epoch 100/200\n",
      "94/94 [==============================] - 3s 33ms/step - loss: 0.3019 - accuracy: 0.8912 - val_loss: 0.3592 - val_accuracy: 0.8718\n",
      "Epoch 101/200\n",
      "94/94 [==============================] - 3s 32ms/step - loss: 0.3038 - accuracy: 0.8891 - val_loss: 0.3623 - val_accuracy: 0.8717\n",
      "Epoch 102/200\n",
      "94/94 [==============================] - 3s 32ms/step - loss: 0.3026 - accuracy: 0.8896 - val_loss: 0.3586 - val_accuracy: 0.8717\n",
      "Epoch 103/200\n",
      "94/94 [==============================] - 3s 31ms/step - loss: 0.3002 - accuracy: 0.8906 - val_loss: 0.3616 - val_accuracy: 0.8712\n",
      "Epoch 104/200\n",
      "94/94 [==============================] - 3s 31ms/step - loss: 0.2994 - accuracy: 0.8909 - val_loss: 0.3582 - val_accuracy: 0.8723\n",
      "Epoch 105/200\n",
      "94/94 [==============================] - 3s 32ms/step - loss: 0.3003 - accuracy: 0.8911 - val_loss: 0.3647 - val_accuracy: 0.8701\n",
      "Epoch 106/200\n",
      "94/94 [==============================] - 3s 32ms/step - loss: 0.2994 - accuracy: 0.8909 - val_loss: 0.3541 - val_accuracy: 0.8730\n",
      "Epoch 107/200\n",
      "94/94 [==============================] - 3s 32ms/step - loss: 0.2961 - accuracy: 0.8927 - val_loss: 0.3542 - val_accuracy: 0.8748\n",
      "Epoch 108/200\n",
      "94/94 [==============================] - 3s 32ms/step - loss: 0.2983 - accuracy: 0.8910 - val_loss: 0.3604 - val_accuracy: 0.8727\n",
      "Epoch 109/200\n",
      "94/94 [==============================] - 3s 32ms/step - loss: 0.2987 - accuracy: 0.8909 - val_loss: 0.3539 - val_accuracy: 0.8729\n",
      "Epoch 110/200\n",
      "94/94 [==============================] - 3s 32ms/step - loss: 0.2963 - accuracy: 0.8919 - val_loss: 0.3563 - val_accuracy: 0.8741\n",
      "Epoch 111/200\n",
      "94/94 [==============================] - 3s 32ms/step - loss: 0.2968 - accuracy: 0.8924 - val_loss: 0.3535 - val_accuracy: 0.8740\n",
      "Epoch 112/200\n",
      "94/94 [==============================] - 3s 32ms/step - loss: 0.2937 - accuracy: 0.8932 - val_loss: 0.3596 - val_accuracy: 0.8724\n",
      "Epoch 113/200\n",
      "94/94 [==============================] - 3s 32ms/step - loss: 0.2957 - accuracy: 0.8916 - val_loss: 0.3643 - val_accuracy: 0.8703\n",
      "Epoch 114/200\n",
      "94/94 [==============================] - 3s 32ms/step - loss: 0.2946 - accuracy: 0.8926 - val_loss: 0.3606 - val_accuracy: 0.8689\n",
      "Epoch 115/200\n",
      "94/94 [==============================] - 3s 32ms/step - loss: 0.2928 - accuracy: 0.8943 - val_loss: 0.3559 - val_accuracy: 0.8740\n",
      "Epoch 116/200\n",
      "94/94 [==============================] - 3s 32ms/step - loss: 0.2937 - accuracy: 0.8922 - val_loss: 0.3548 - val_accuracy: 0.8747\n",
      "Epoch 117/200\n",
      "94/94 [==============================] - 3s 32ms/step - loss: 0.2916 - accuracy: 0.8938 - val_loss: 0.3552 - val_accuracy: 0.8733\n",
      "Epoch 118/200\n",
      "94/94 [==============================] - 3s 32ms/step - loss: 0.2916 - accuracy: 0.8945 - val_loss: 0.3550 - val_accuracy: 0.8721\n",
      "Epoch 119/200\n",
      "94/94 [==============================] - 3s 32ms/step - loss: 0.2911 - accuracy: 0.8948 - val_loss: 0.3567 - val_accuracy: 0.8727\n",
      "Epoch 120/200\n",
      "94/94 [==============================] - 3s 32ms/step - loss: 0.2909 - accuracy: 0.8947 - val_loss: 0.3557 - val_accuracy: 0.8714\n",
      "Epoch 121/200\n",
      "94/94 [==============================] - 3s 32ms/step - loss: 0.2878 - accuracy: 0.8954 - val_loss: 0.3537 - val_accuracy: 0.8741\n",
      "Epoch 122/200\n",
      "94/94 [==============================] - 3s 32ms/step - loss: 0.2889 - accuracy: 0.8943 - val_loss: 0.3586 - val_accuracy: 0.8741\n",
      "Epoch 123/200\n",
      "94/94 [==============================] - 3s 32ms/step - loss: 0.2909 - accuracy: 0.8937 - val_loss: 0.3570 - val_accuracy: 0.8739\n",
      "Epoch 124/200\n",
      "94/94 [==============================] - 3s 33ms/step - loss: 0.2896 - accuracy: 0.8940 - val_loss: 0.3585 - val_accuracy: 0.8716\n",
      "Epoch 125/200\n",
      "94/94 [==============================] - 3s 32ms/step - loss: 0.2876 - accuracy: 0.8950 - val_loss: 0.3547 - val_accuracy: 0.8733\n",
      "Epoch 126/200\n",
      "94/94 [==============================] - 3s 32ms/step - loss: 0.2857 - accuracy: 0.8965 - val_loss: 0.3571 - val_accuracy: 0.8709\n",
      "Epoch 127/200\n",
      "94/94 [==============================] - 3s 32ms/step - loss: 0.2861 - accuracy: 0.8965 - val_loss: 0.3754 - val_accuracy: 0.8661\n",
      "Epoch 128/200\n",
      "94/94 [==============================] - 3s 32ms/step - loss: 0.2848 - accuracy: 0.8964 - val_loss: 0.3544 - val_accuracy: 0.8728\n",
      "Epoch 129/200\n",
      "94/94 [==============================] - 3s 32ms/step - loss: 0.2843 - accuracy: 0.8968 - val_loss: 0.3602 - val_accuracy: 0.8702\n",
      "Epoch 130/200\n",
      "94/94 [==============================] - 3s 32ms/step - loss: 0.2855 - accuracy: 0.8957 - val_loss: 0.3535 - val_accuracy: 0.8731\n",
      "Epoch 131/200\n",
      "94/94 [==============================] - 3s 32ms/step - loss: 0.2833 - accuracy: 0.8968 - val_loss: 0.3529 - val_accuracy: 0.8747\n",
      "Epoch 132/200\n",
      "94/94 [==============================] - 3s 33ms/step - loss: 0.2829 - accuracy: 0.8975 - val_loss: 0.3555 - val_accuracy: 0.8735\n",
      "Epoch 133/200\n",
      "94/94 [==============================] - 3s 33ms/step - loss: 0.2835 - accuracy: 0.8972 - val_loss: 0.3572 - val_accuracy: 0.8718\n",
      "Epoch 134/200\n",
      "94/94 [==============================] - 3s 32ms/step - loss: 0.2819 - accuracy: 0.8972 - val_loss: 0.3600 - val_accuracy: 0.8724\n",
      "Epoch 135/200\n",
      "94/94 [==============================] - 3s 32ms/step - loss: 0.2832 - accuracy: 0.8971 - val_loss: 0.3531 - val_accuracy: 0.8742\n",
      "Epoch 136/200\n",
      "94/94 [==============================] - 3s 32ms/step - loss: 0.2800 - accuracy: 0.8986 - val_loss: 0.3561 - val_accuracy: 0.8721\n",
      "Epoch 137/200\n",
      "94/94 [==============================] - 3s 32ms/step - loss: 0.2819 - accuracy: 0.8971 - val_loss: 0.3550 - val_accuracy: 0.8758\n",
      "Epoch 138/200\n",
      "94/94 [==============================] - 3s 33ms/step - loss: 0.2797 - accuracy: 0.8982 - val_loss: 0.3608 - val_accuracy: 0.8724\n",
      "Epoch 139/200\n",
      "94/94 [==============================] - 3s 32ms/step - loss: 0.2787 - accuracy: 0.8979 - val_loss: 0.3595 - val_accuracy: 0.8742\n",
      "Epoch 140/200\n",
      "94/94 [==============================] - 3s 32ms/step - loss: 0.2786 - accuracy: 0.8985 - val_loss: 0.3533 - val_accuracy: 0.8751\n",
      "Epoch 141/200\n",
      "94/94 [==============================] - 3s 33ms/step - loss: 0.2786 - accuracy: 0.8982 - val_loss: 0.3550 - val_accuracy: 0.8748\n",
      "Epoch 142/200\n",
      "94/94 [==============================] - 3s 32ms/step - loss: 0.2780 - accuracy: 0.8990 - val_loss: 0.3591 - val_accuracy: 0.8703\n",
      "Epoch 143/200\n",
      "94/94 [==============================] - 3s 32ms/step - loss: 0.2805 - accuracy: 0.8988 - val_loss: 0.3566 - val_accuracy: 0.8721\n",
      "Epoch 144/200\n",
      "94/94 [==============================] - 3s 32ms/step - loss: 0.2766 - accuracy: 0.9004 - val_loss: 0.3560 - val_accuracy: 0.8737\n",
      "Epoch 145/200\n",
      "94/94 [==============================] - 3s 32ms/step - loss: 0.2767 - accuracy: 0.8988 - val_loss: 0.3512 - val_accuracy: 0.8763\n",
      "Epoch 146/200\n",
      "94/94 [==============================] - 3s 32ms/step - loss: 0.2769 - accuracy: 0.8993 - val_loss: 0.3547 - val_accuracy: 0.8767\n",
      "Epoch 147/200\n",
      "94/94 [==============================] - 3s 32ms/step - loss: 0.2749 - accuracy: 0.9004 - val_loss: 0.3535 - val_accuracy: 0.8746\n",
      "Epoch 148/200\n",
      "94/94 [==============================] - 3s 32ms/step - loss: 0.2748 - accuracy: 0.9007 - val_loss: 0.3548 - val_accuracy: 0.8748\n",
      "Epoch 149/200\n",
      "94/94 [==============================] - 3s 32ms/step - loss: 0.2729 - accuracy: 0.9006 - val_loss: 0.3566 - val_accuracy: 0.8741\n",
      "Epoch 150/200\n",
      "94/94 [==============================] - 3s 33ms/step - loss: 0.2740 - accuracy: 0.9011 - val_loss: 0.3593 - val_accuracy: 0.8723\n",
      "Epoch 151/200\n",
      "94/94 [==============================] - 3s 33ms/step - loss: 0.2739 - accuracy: 0.9011 - val_loss: 0.3559 - val_accuracy: 0.8767\n",
      "Epoch 152/200\n",
      "94/94 [==============================] - 3s 33ms/step - loss: 0.2725 - accuracy: 0.9001 - val_loss: 0.3508 - val_accuracy: 0.8782\n",
      "Epoch 153/200\n",
      "94/94 [==============================] - 3s 33ms/step - loss: 0.2713 - accuracy: 0.9013 - val_loss: 0.3543 - val_accuracy: 0.8762\n",
      "Epoch 154/200\n",
      "94/94 [==============================] - 3s 33ms/step - loss: 0.2711 - accuracy: 0.9013 - val_loss: 0.3574 - val_accuracy: 0.8737\n",
      "Epoch 155/200\n",
      "94/94 [==============================] - 3s 32ms/step - loss: 0.2725 - accuracy: 0.8998 - val_loss: 0.3605 - val_accuracy: 0.8699\n",
      "Epoch 156/200\n",
      "94/94 [==============================] - 3s 32ms/step - loss: 0.2709 - accuracy: 0.9005 - val_loss: 0.3587 - val_accuracy: 0.8726\n",
      "Epoch 157/200\n",
      "94/94 [==============================] - 3s 33ms/step - loss: 0.2732 - accuracy: 0.9003 - val_loss: 0.3544 - val_accuracy: 0.8777\n",
      "Epoch 158/200\n",
      "94/94 [==============================] - 3s 32ms/step - loss: 0.2703 - accuracy: 0.9027 - val_loss: 0.3542 - val_accuracy: 0.8761\n",
      "Epoch 159/200\n",
      "94/94 [==============================] - 3s 33ms/step - loss: 0.2687 - accuracy: 0.9021 - val_loss: 0.3606 - val_accuracy: 0.8715\n",
      "Epoch 160/200\n",
      "94/94 [==============================] - 3s 32ms/step - loss: 0.2704 - accuracy: 0.9015 - val_loss: 0.3590 - val_accuracy: 0.8733\n",
      "Epoch 161/200\n",
      "94/94 [==============================] - 3s 32ms/step - loss: 0.2665 - accuracy: 0.9032 - val_loss: 0.3607 - val_accuracy: 0.8733\n",
      "Epoch 162/200\n",
      "94/94 [==============================] - 3s 32ms/step - loss: 0.2653 - accuracy: 0.9033 - val_loss: 0.3557 - val_accuracy: 0.8760\n",
      "Epoch 163/200\n",
      "94/94 [==============================] - 3s 32ms/step - loss: 0.2671 - accuracy: 0.9031 - val_loss: 0.3529 - val_accuracy: 0.8766\n",
      "Epoch 164/200\n",
      "94/94 [==============================] - 3s 31ms/step - loss: 0.2666 - accuracy: 0.9026 - val_loss: 0.3556 - val_accuracy: 0.8748\n",
      "Epoch 165/200\n",
      "94/94 [==============================] - 3s 31ms/step - loss: 0.2670 - accuracy: 0.9026 - val_loss: 0.3581 - val_accuracy: 0.8748\n",
      "Epoch 166/200\n",
      "94/94 [==============================] - 3s 33ms/step - loss: 0.2667 - accuracy: 0.9033 - val_loss: 0.3532 - val_accuracy: 0.8792\n",
      "Epoch 167/200\n",
      "94/94 [==============================] - 3s 33ms/step - loss: 0.2653 - accuracy: 0.9037 - val_loss: 0.3666 - val_accuracy: 0.8723\n",
      "Epoch 168/200\n",
      "94/94 [==============================] - 3s 31ms/step - loss: 0.2654 - accuracy: 0.9034 - val_loss: 0.3561 - val_accuracy: 0.8763\n",
      "Epoch 169/200\n",
      "94/94 [==============================] - 3s 32ms/step - loss: 0.2633 - accuracy: 0.9046 - val_loss: 0.3632 - val_accuracy: 0.8735\n",
      "Epoch 170/200\n",
      "94/94 [==============================] - 3s 32ms/step - loss: 0.2644 - accuracy: 0.9045 - val_loss: 0.3588 - val_accuracy: 0.8761\n",
      "Epoch 171/200\n",
      "94/94 [==============================] - 3s 32ms/step - loss: 0.2619 - accuracy: 0.9056 - val_loss: 0.3567 - val_accuracy: 0.8768\n",
      "Epoch 172/200\n",
      "94/94 [==============================] - 3s 32ms/step - loss: 0.2641 - accuracy: 0.9038 - val_loss: 0.3598 - val_accuracy: 0.8741\n",
      "Epoch 173/200\n",
      "94/94 [==============================] - 3s 32ms/step - loss: 0.2652 - accuracy: 0.9024 - val_loss: 0.3587 - val_accuracy: 0.8761\n",
      "Epoch 174/200\n",
      "94/94 [==============================] - 3s 32ms/step - loss: 0.2624 - accuracy: 0.9038 - val_loss: 0.3699 - val_accuracy: 0.8711\n",
      "Epoch 175/200\n",
      "94/94 [==============================] - 3s 32ms/step - loss: 0.2614 - accuracy: 0.9050 - val_loss: 0.3610 - val_accuracy: 0.8739\n",
      "Epoch 176/200\n",
      "94/94 [==============================] - 3s 32ms/step - loss: 0.2610 - accuracy: 0.9045 - val_loss: 0.3671 - val_accuracy: 0.8714\n",
      "Epoch 177/200\n",
      "94/94 [==============================] - 3s 32ms/step - loss: 0.2603 - accuracy: 0.9046 - val_loss: 0.3605 - val_accuracy: 0.8749\n",
      "Epoch 178/200\n",
      "94/94 [==============================] - 3s 32ms/step - loss: 0.2602 - accuracy: 0.9051 - val_loss: 0.3594 - val_accuracy: 0.8735\n",
      "Epoch 179/200\n",
      "94/94 [==============================] - 3s 33ms/step - loss: 0.2593 - accuracy: 0.9054 - val_loss: 0.3586 - val_accuracy: 0.8767\n",
      "Epoch 180/200\n",
      "94/94 [==============================] - 3s 32ms/step - loss: 0.2624 - accuracy: 0.9040 - val_loss: 0.3663 - val_accuracy: 0.8708\n",
      "Epoch 181/200\n",
      "94/94 [==============================] - 3s 32ms/step - loss: 0.2612 - accuracy: 0.9040 - val_loss: 0.3645 - val_accuracy: 0.8742\n",
      "Epoch 182/200\n",
      "94/94 [==============================] - 3s 32ms/step - loss: 0.2591 - accuracy: 0.9052 - val_loss: 0.3578 - val_accuracy: 0.8756\n",
      "Epoch 183/200\n",
      "94/94 [==============================] - 3s 31ms/step - loss: 0.2585 - accuracy: 0.9062 - val_loss: 0.3596 - val_accuracy: 0.8734\n",
      "Epoch 184/200\n",
      "94/94 [==============================] - 3s 32ms/step - loss: 0.2579 - accuracy: 0.9046 - val_loss: 0.3569 - val_accuracy: 0.8745\n",
      "Epoch 185/200\n",
      "94/94 [==============================] - 3s 32ms/step - loss: 0.2562 - accuracy: 0.9068 - val_loss: 0.3583 - val_accuracy: 0.8758\n",
      "Epoch 186/200\n",
      "94/94 [==============================] - 3s 32ms/step - loss: 0.2562 - accuracy: 0.9068 - val_loss: 0.3629 - val_accuracy: 0.8743\n",
      "Epoch 187/200\n",
      "94/94 [==============================] - 3s 33ms/step - loss: 0.2574 - accuracy: 0.9061 - val_loss: 0.3677 - val_accuracy: 0.8712\n",
      "Epoch 188/200\n",
      "94/94 [==============================] - 3s 32ms/step - loss: 0.2588 - accuracy: 0.9061 - val_loss: 0.3580 - val_accuracy: 0.8760\n",
      "Epoch 189/200\n",
      "94/94 [==============================] - 3s 32ms/step - loss: 0.2548 - accuracy: 0.9075 - val_loss: 0.3575 - val_accuracy: 0.8755\n",
      "Epoch 190/200\n",
      "94/94 [==============================] - 3s 32ms/step - loss: 0.2560 - accuracy: 0.9070 - val_loss: 0.3595 - val_accuracy: 0.8763\n",
      "Epoch 191/200\n",
      "94/94 [==============================] - 3s 32ms/step - loss: 0.2535 - accuracy: 0.9070 - val_loss: 0.3627 - val_accuracy: 0.8748\n",
      "Epoch 192/200\n",
      "94/94 [==============================] - 3s 32ms/step - loss: 0.2545 - accuracy: 0.9077 - val_loss: 0.3624 - val_accuracy: 0.8740\n",
      "Epoch 193/200\n",
      "94/94 [==============================] - 3s 32ms/step - loss: 0.2533 - accuracy: 0.9074 - val_loss: 0.3617 - val_accuracy: 0.8745\n",
      "Epoch 194/200\n",
      "94/94 [==============================] - 3s 32ms/step - loss: 0.2543 - accuracy: 0.9065 - val_loss: 0.3591 - val_accuracy: 0.8765\n",
      "Epoch 195/200\n",
      "94/94 [==============================] - 3s 31ms/step - loss: 0.2528 - accuracy: 0.9083 - val_loss: 0.3688 - val_accuracy: 0.8728\n",
      "Epoch 196/200\n",
      "94/94 [==============================] - 3s 32ms/step - loss: 0.2548 - accuracy: 0.9070 - val_loss: 0.3582 - val_accuracy: 0.8775\n",
      "Epoch 197/200\n",
      "94/94 [==============================] - 3s 33ms/step - loss: 0.2514 - accuracy: 0.9082 - val_loss: 0.3654 - val_accuracy: 0.8718\n",
      "Epoch 198/200\n",
      "94/94 [==============================] - 3s 32ms/step - loss: 0.2497 - accuracy: 0.9093 - val_loss: 0.3652 - val_accuracy: 0.8727\n",
      "Epoch 199/200\n",
      "94/94 [==============================] - 3s 32ms/step - loss: 0.2509 - accuracy: 0.9091 - val_loss: 0.3666 - val_accuracy: 0.8724\n",
      "Epoch 200/200\n",
      "94/94 [==============================] - 3s 32ms/step - loss: 0.2524 - accuracy: 0.9080 - val_loss: 0.3628 - val_accuracy: 0.8752\n"
     ]
    },
    {
     "data": {
      "text/plain": [
       "<keras.callbacks.History at 0x28318b8cb80>"
      ]
     },
     "execution_count": 26,
     "metadata": {},
     "output_type": "execute_result"
    }
   ],
   "source": [
    "\n",
    "cnn_model.fit(X_train,y_train,batch_size =512,epochs = epochs,verbose = 1,validation_data = (X_validate,y_validate) )"
   ]
  },
  {
   "cell_type": "code",
   "execution_count": 27,
   "metadata": {
    "colab": {
     "base_uri": "https://localhost:8080/"
    },
    "id": "OdPP1tCx7yXa",
    "outputId": "804a407c-7d47-4af4-fc84-b69b610c33ce"
   },
   "outputs": [
    {
     "name": "stdout",
     "output_type": "stream",
     "text": [
      "313/313 [==============================] - 1s 4ms/step - loss: 0.3484 - accuracy: 0.8799\n",
      "Test Accuracy : 0.880\n"
     ]
    }
   ],
   "source": [
    "evaluation = cnn_model.evaluate(X_test,y_test)\n",
    "print('Test Accuracy : {:.3f}'.format(evaluation[1]))"
   ]
  },
  {
   "cell_type": "code",
   "execution_count": 28,
   "metadata": {
    "colab": {
     "base_uri": "https://localhost:8080/"
    },
    "id": "upogqyEZ76TZ",
    "outputId": "35ada5cd-9f2c-4fdf-d534-79af9291c4e1"
   },
   "outputs": [
    {
     "name": "stdout",
     "output_type": "stream",
     "text": [
      "313/313 [==============================] - 5s 4ms/step\n"
     ]
    }
   ],
   "source": [
    "predicted_classes = np.argmax(cnn_model.predict(X_test),axis=-1)\n"
   ]
  },
  {
   "cell_type": "code",
   "execution_count": 29,
   "metadata": {
    "colab": {
     "base_uri": "https://localhost:8080/"
    },
    "id": "LmJsMlvr86e5",
    "outputId": "142586bb-d722-449d-c122-e426e5697763"
   },
   "outputs": [
    {
     "data": {
      "text/plain": [
       "array([0, 1, 2, ..., 8, 8, 1], dtype=int64)"
      ]
     },
     "execution_count": 29,
     "metadata": {},
     "output_type": "execute_result"
    }
   ],
   "source": [
    "predicted_classes"
   ]
  },
  {
   "cell_type": "code",
   "execution_count": 30,
   "metadata": {
    "colab": {
     "base_uri": "https://localhost:8080/",
     "height": 697
    },
    "id": "E5AyGxXc8_aH",
    "outputId": "f17d603b-1be7-4345-fbc5-0c34f53e0b92"
   },
   "outputs": [
    {
     "data": {
      "image/png": "[encoded data removed]",
      "text/plain": [
       "<Figure size 864x864 with 25 Axes>"
      ]
     },
     "metadata": {
      "needs_background": "light"
     },
     "output_type": "display_data"
    }
   ],
   "source": [
    "L = 5\n",
    "W = 5\n",
    "\n",
    "fig,axes = plt.subplots(L,W,figsize = (12,12))\n",
    "axes = axes.ravel()\n",
    "for i in np.arange(0,L*W):\n",
    "    axes[i].imshow(X_test[i].reshape(28,28))\n",
    "    axes[i].set_title('Prediction Class:{1} \\n true class: {1}'.format(predicted_classes[i],y_test[i]))\n",
    "    axes[i].axis('off')\n",
    "plt.subplots_adjust(wspace = 0.5)  "
   ]
  },
  {
   "cell_type": "code",
   "execution_count": 31,
   "metadata": {
    "colab": {
     "base_uri": "https://localhost:8080/"
    },
    "id": "1j24BwIxPdeR",
    "outputId": "21b80c6e-99c4-4e22-fb17-f504e5682e32"
   },
   "outputs": [
    {
     "name": "stdout",
     "output_type": "stream",
     "text": [
      "              precision    recall  f1-score   support\n",
      "\n",
      "     Class 0       0.81      0.84      0.83      1000\n",
      "     Class 1       0.97      0.98      0.98      1000\n",
      "     Class 2       0.84      0.80      0.82      1000\n",
      "     Class 3       0.91      0.88      0.89      1000\n",
      "     Class 4       0.81      0.84      0.82      1000\n",
      "     Class 5       0.94      0.96      0.95      1000\n",
      "     Class 6       0.68      0.66      0.67      1000\n",
      "     Class 7       0.95      0.89      0.92      1000\n",
      "     Class 8       0.96      0.97      0.97      1000\n",
      "     Class 9       0.93      0.97      0.95      1000\n",
      "\n",
      "    accuracy                           0.88     10000\n",
      "   macro avg       0.88      0.88      0.88     10000\n",
      "weighted avg       0.88      0.88      0.88     10000\n",
      "\n"
     ]
    }
   ],
   "source": [
    "from sklearn.metrics import classification_report\n",
    "\n",
    "classes = 10\n",
    "targets = [\"Class {}\".format(i) for i in range(classes)]\n",
    "print(classification_report(y_test, predicted_classes, target_names = targets))"
   ]
  },
  {
   "cell_type": "code",
   "execution_count": null,
   "metadata": {},
   "outputs": [],
   "source": []
  },
  {
   "cell_type": "code",
   "execution_count": null,
   "metadata": {},
   "outputs": [],
   "source": []
  }
 ],
 "metadata": {
  "colab": {
   "provenance": []
  },
  "kernelspec": {
   "display_name": "Python 3 (ipykernel)",
   "language": "python",
   "name": "python3"
  },
  "language_info": {
   "codemirror_mode": {
    "name": "ipython",
    "version": 3
   },
   "file_extension": ".py",
   "mimetype": "text/x-python",
   "name": "python",
   "nbconvert_exporter": "python",
   "pygments_lexer": "ipython3",
   "version": "3.9.6"
  }
 },
 "nbformat": 4,
 "nbformat_minor": 1
}
